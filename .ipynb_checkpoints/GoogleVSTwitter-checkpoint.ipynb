{
 "cells": [
  {
   "cell_type": "code",
   "execution_count": 12,
   "metadata": {
    "collapsed": true
   },
   "outputs": [],
   "source": [
    "import json\n",
    "import numpy as np\n",
    "np.random.seed(0)\n",
    "\n",
    "from bokeh.io import curdoc\n",
    "from bokeh.layouts import widgetbox, row, column, layout\n",
    "from bokeh.models import ColumnDataSource, Select, Slider\n",
    "from bokeh.palettes import Spectral6\n",
    "from bokeh.io import output_notebook, show\n",
    "from bokeh.plotting import figure, output_file, show\n",
    "from sklearn import tree\n",
    "\n",
    "from sklearn import neighbors, datasets\n",
    "from sklearn.neighbors import NearestNeighbors\n",
    "from sklearn import cluster, datasets\n",
    "from sklearn.neighbors import kneighbors_graph\n",
    "from sklearn.preprocessing import StandardScaler, MinMaxScaler\n",
    "\n",
    "import xlrd\n",
    "from sklearn.cluster import KMeans\n",
    "from bokeh.plotting import figure\n",
    "from bokeh.models import HoverTool\n",
    "from bokeh.models import BoxZoomTool\n",
    "from bokeh.models import WheelZoomTool\n",
    "from bokeh.models import PanTool"
   ]
  },
  {
   "cell_type": "code",
   "execution_count": 13,
   "metadata": {
    "collapsed": true,
    "scrolled": true
   },
   "outputs": [],
   "source": [
    "file  = open(\"ranking.json\", \"r\")\n",
    "text = file.read()\n",
    "\n",
    "file = open(\"metaldata.json\", \"r\")\n",
    "metal = file.read()\n",
    "#print(text)"
   ]
  },
  {
   "cell_type": "code",
   "execution_count": 14,
   "metadata": {
    "collapsed": true
   },
   "outputs": [],
   "source": [
    "parsed_text = json.loads(text)\n",
    "metal_data = json.loads(metal)"
   ]
  },
  {
   "cell_type": "code",
   "execution_count": 4,
   "metadata": {},
   "outputs": [
    {
     "name": "stdout",
     "output_type": "stream",
     "text": [
      "{'googleBooksRank': 2458, 'happs': 8.44, 'lyricsRank': 1230, 'newYorkTimesRank': -1, 'rank': 2, 'stdDev': 0.9723, 'text': 'happiness', 'twitterRank': 1853, 'word': 'happiness'}\n"
     ]
    }
   ],
   "source": [
    "print(parsed_text['objects'][1])"
   ]
  },
  {
   "cell_type": "code",
   "execution_count": 5,
   "metadata": {
    "collapsed": true
   },
   "outputs": [],
   "source": [
    "def stemStepA(word):\n",
    "    vowels = ['a', 'e', 'i',  'o', 'u', 'y']\n",
    "    \n",
    "    if word[len(word)-3:] == \"ied\" or word[len(word)-3:] == \"ies\":\n",
    "        return word[:-2]\n",
    "    \n",
    "    \n",
    "    if word[len(word)-4:] == \"sses\":\n",
    "        if len(word) >= 4:\n",
    "            word = word[:len(word)-4] + \"ss\"\n",
    "        return word\n",
    "    \n",
    "    \n",
    "    if word[len(word)-1:] == \"s\":\n",
    "        if word[len(word)-2:-1] not in vowels:\n",
    "            word = word[:-1]    \n",
    "        return word\n",
    "    \n",
    "    \n",
    "    return word    "
   ]
  },
  {
   "cell_type": "code",
   "execution_count": 6,
   "metadata": {
    "collapsed": true
   },
   "outputs": [],
   "source": [
    "def firstNonVowelIndex(word):\n",
    "    \n",
    "    vowels = ['a', 'e', 'i',  'o', 'u', 'y']\n",
    "    \n",
    "    index = -1\n",
    "    \n",
    "    for i in range(0, len(word)):\n",
    "        if word[i] not in vowels and index == -1:\n",
    "            index = i\n",
    "            \n",
    "    #print(\"index is \", index)\n",
    "    return index"
   ]
  },
  {
   "cell_type": "code",
   "execution_count": 7,
   "metadata": {
    "collapsed": true
   },
   "outputs": [],
   "source": [
    "def rootHasVowel(word, endingIndex):\n",
    "    \n",
    "    vowels = ['a', 'e', 'i',  'o', 'u', 'y']\n",
    "    \n",
    "    temp = word[:-endingIndex]\n",
    "    \n",
    "    for v in vowels:\n",
    "        if v in temp:\n",
    "            return True\n",
    "         \n",
    "    return False"
   ]
  },
  {
   "cell_type": "code",
   "execution_count": 8,
   "metadata": {
    "collapsed": true
   },
   "outputs": [],
   "source": [
    "def stemStepB(word):\n",
    "    vowels = ['a', 'e', 'i',  'o', 'u', 'y']\n",
    "    \n",
    "    #print(word, \"got past 0\")\n",
    "    \n",
    "    if len(word) >= 4:\n",
    "        if word[len(word)-3:] == \"eed\":\n",
    "            if word[len(word)-4:-3] not in vowels:\n",
    "                    if len(word)-4 == firstNonVowelIndex(word):\n",
    "                        return word\n",
    "                    else:\n",
    "                        return word[:-3] + \"ee\"\n",
    "                    \n",
    "                    \n",
    "                    \n",
    "                    \n",
    "    #print(word, \"got past 1\")\n",
    "        \n",
    "    if len(word) >= 6:\n",
    "        if word[len(word)-5:] == \"eedly\":\n",
    "            if word[len(word)-6:-5] not in vowels:\n",
    "                if len(word)-6 == firstNonVowelIndex(word):\n",
    "                    return word\n",
    "                else:\n",
    "                    return word[:-5] + \"ee\"\n",
    "        \n",
    "        \n",
    "        \n",
    "        \n",
    "    #print(word, \"got past 2\")\n",
    "    \n",
    "    if word[len(word)-2:] == \"ed\":\n",
    "        if rootHasVowel(word, 2) == True:\n",
    "            word = word[:-2]\n",
    "        \n",
    "        if word[len(word)-2:] == \"at\" or word[len(word)-2:] == \"bl\" or word[len(word)-2:] == \"az\":\n",
    "            word = word + \"e\"\n",
    "            \n",
    "        if word[len(word)-2:-1] == word[len(word)-1:]:\n",
    "            if word[len(word)-2:] != \"ll\" and word[len(word)-2:] != \"ss\" and word[len(word)-2:] != \"zz\":                                  \n",
    "                word = word[:-1]\n",
    "            \n",
    "        return word\n",
    "\n",
    "    \n",
    "    \n",
    "    \n",
    "    #print(word, \"got past 3\")\n",
    "    \n",
    "    if word[len(word)-4:] == \"edly\":\n",
    "        if rootHasVowel(word, 4) == True:\n",
    "            word = word[:-4]\n",
    "        \n",
    "        if word[len(word)-2:] == \"at\" or word[len(word)-2:] == \"bl\" or word[len(word)-2:] == \"az\":\n",
    "            word = word + \"e\"\n",
    "            \n",
    "        if word[len(word)-2:-1] == word[len(word)-1:]:\n",
    "            if word[len(word)-2:] != \"ll\" and word[len(word)-2:] != \"ss\" and word[len(word)-2:] != \"zz\":                                  \n",
    "                word = word[:-1]\n",
    "            \n",
    "        return word\n",
    "    \n",
    "    \n",
    "    \n",
    "    \n",
    "    #print(word, \"got past 4\")\n",
    "    \n",
    "    if word[len(word)-3:] == \"ing\":\n",
    "        if rootHasVowel(word, 3) == True:\n",
    "            word = word[:-3]\n",
    "            \n",
    "        if word[len(word)-2:] == \"at\" or word[len(word)-2:] == \"bl\" or word[len(word)-2:] == \"az\":\n",
    "            word = word + \"e\"\n",
    "            \n",
    "        if word[len(word)-2:-1] == word[len(word)-1:]:\n",
    "            if word[len(word)-2:] != \"ll\" and word[len(word)-2:] != \"ss\" and word[len(word)-2:] != \"zz\":                                  \n",
    "                word = word[:-1]\n",
    "            \n",
    "            \n",
    "        return word\n",
    "    \n",
    "    \n",
    "    \n",
    "    \n",
    "    #print(word, \"got past 5\")\n",
    "    \n",
    "    if word[len(word)-5:] == \"ingly\":\n",
    "        if rootHasVowel(word, 5) == True:\n",
    "            word = word[:-5]\n",
    "            \n",
    "        if word[len(word)-2:] == \"at\" or word[len(word)-2:] == \"bl\" or word[len(word)-2:] == \"az\":\n",
    "            word = word + \"e\"\n",
    "            \n",
    "        if word[len(word)-2:-1] == word[len(word)-1:]:\n",
    "            if word[len(word)-2:] != \"ll\" and word[len(word)-2:] != \"ss\" and word[len(word)-2:] != \"zz\":                                  \n",
    "                word = word[:-1]\n",
    "            \n",
    "        return word\n",
    "        \n",
    "    return word"
   ]
  },
  {
   "cell_type": "code",
   "execution_count": 9,
   "metadata": {
    "collapsed": true
   },
   "outputs": [],
   "source": [
    "def stem(word):\n",
    "    word = stemStepA(word)\n",
    "    word = stemStepB(word)\n",
    "    return word"
   ]
  },
  {
   "cell_type": "code",
   "execution_count": 10,
   "metadata": {
    "collapsed": true
   },
   "outputs": [],
   "source": [
    "def findUniqueWords(metal_data):\n",
    "    uniqueWords = {}\n",
    "    words = []\n",
    "\n",
    "    for band in metal_data.keys():\n",
    "        for album in metal_data[band].keys():\n",
    "            for song in metal_data[band][album].keys():\n",
    "                lyrics = metal_data[band][album][song]\n",
    "                wordsInSong = lyrics.split(\" \")\n",
    "                for w in wordsInSong:\n",
    "                    if w != '':\n",
    "                        words.append(stemm(w.lower()))\n",
    "\n",
    "    for w in words:\n",
    "        if w in uniqueWords.keys():\n",
    "            uniqueWords[w] += 1\n",
    "        else:\n",
    "            uniqueWords[w] = 1\n",
    "            \n",
    "    return uniqueWords"
   ]
  },
  {
   "cell_type": "code",
   "execution_count": 11,
   "metadata": {
    "collapsed": true
   },
   "outputs": [],
   "source": [
    "def buildWordFrequencyBarPlot(startingIndex, numOfWords, uniqueWords):\n",
    "    if (startingIndex + numOfWords) <= len(uniqueWords):\n",
    "        wordsInSet = []\n",
    "\n",
    "        for k in uniqueWords.keys():\n",
    "            wordsInSet.append(k)\n",
    "\n",
    "        wordsForPlot = []\n",
    "        countsForPlot = []\n",
    "\n",
    "        for i in range(startingIndex, startingIndex + numOfWords):\n",
    "            wordsForPlot.append(wordsInSet[i])\n",
    "            countsForPlot.append(uniqueWords[wordsInSet[i]])\n",
    "\n",
    "        for i in range(0, len(wordsForPlot)):\n",
    "            print(wordsForPlot[i], \"\\t\", countsForPlot[i])\n",
    "            \n",
    "        p = figure(x_range=wordsForPlot, plot_height = 250, title=\"Frequency of Words\")                             \n",
    "        p.vbar(x=wordsForPlot, top=countsForPlot, width = 0.9)\n",
    "               \n",
    "        show(p)"
   ]
  },
  {
   "cell_type": "code",
   "execution_count": 12,
   "metadata": {
    "scrolled": false
   },
   "outputs": [
    {
     "name": "stdout",
     "output_type": "stream",
     "text": [
      "step \t 7\n",
      "you \t 423\n",
      "take \t 37\n",
      "is \t 282\n",
      "to \t 485\n",
      "the \t 1098\n",
      "end \t 45\n",
      "chaos, \t 1\n",
      "duplicate \t 1\n",
      "human \t 3\n"
     ]
    }
   ],
   "source": [
    "uniqueWords = findUniqueWords(metal_data)\n",
    "wordFreqBarPlot = buildWordFrequencyBarPlot(1, 10, uniqueWords)"
   ]
  },
  {
   "cell_type": "code",
   "execution_count": 13,
   "metadata": {
    "collapsed": true
   },
   "outputs": [],
   "source": [
    "startingPoint_slider = Slider(title=\"Starting Index\",\n",
    "                         value=0.0,\n",
    "                         start=1.0,\n",
    "                         end=len(uniqueWords)-10,\n",
    "                         step=1,\n",
    "                         width=200)\n",
    "\n",
    "numOfWordsLookingAt_slider = Slider(title=\"Number of words to look after Starting Point\",\n",
    "                         value=1.0,\n",
    "                         start=1.0,\n",
    "                         end=10.0,\n",
    "                         step=1,\n",
    "                         width=200)"
   ]
  },
  {
   "cell_type": "code",
   "execution_count": 14,
   "metadata": {
    "collapsed": true
   },
   "outputs": [],
   "source": [
    "def updateStartingPoint(attrname, old, new):\n",
    "    s = int(startingPoint_slider.value)\n",
    "    n = int(numOfWordsLookingAt_slider.value)\n",
    "    wordFreqBarPlot = buildWordFrequencyBarPlot(s, n, uniqueWords)\n",
    "    \n",
    "    #curdoc().clear()\n",
    "    #curdoc().add_root(row(inputs, wordFreqBarPlot))"
   ]
  },
  {
   "cell_type": "code",
   "execution_count": 15,
   "metadata": {
    "collapsed": true
   },
   "outputs": [],
   "source": [
    "def updateNumOfWordsLookingAt(attrname, old, new):\n",
    "    s = int(startingPoint_slider.value)\n",
    "    n = int(numOfWordsLookingAt_slider.value)\n",
    "    wordFreqBarPlot = buildWordFrequencyBarPlot(s, n, uniqueWords)\n",
    "    \n",
    "    #curdoc().clear()\n",
    "    #curdoc().add_root(row(inputs, wordFreqBarPlot))"
   ]
  },
  {
   "cell_type": "code",
   "execution_count": 16,
   "metadata": {
    "collapsed": true
   },
   "outputs": [],
   "source": [
    "startingPoint_slider.on_change('value', updateStartingPoint)\n",
    "numOfWordsLookingAt_slider.on_change('value', updateNumOfWordsLookingAt)"
   ]
  },
  {
   "cell_type": "code",
   "execution_count": 17,
   "metadata": {},
   "outputs": [
    {
     "ename": "ValueError",
     "evalue": "Only LayoutDOM items can be inserted into a row.\n                Tried to insert: None of type <class 'NoneType'>",
     "output_type": "error",
     "traceback": [
      "\u001b[1;31m---------------------------------------------------------------------------\u001b[0m",
      "\u001b[1;31mValueError\u001b[0m                                Traceback (most recent call last)",
      "\u001b[1;32m<ipython-input-17-567735c9e27b>\u001b[0m in \u001b[0;36m<module>\u001b[1;34m()\u001b[0m\n\u001b[0;32m      1\u001b[0m \u001b[0minputs\u001b[0m \u001b[1;33m=\u001b[0m \u001b[0mcolumn\u001b[0m\u001b[1;33m(\u001b[0m\u001b[0mwidgetbox\u001b[0m\u001b[1;33m(\u001b[0m\u001b[0mstartingPoint_slider\u001b[0m\u001b[1;33m,\u001b[0m \u001b[0mnumOfWordsLookingAt_slider\u001b[0m\u001b[1;33m)\u001b[0m\u001b[1;33m)\u001b[0m\u001b[1;33m\u001b[0m\u001b[0m\n\u001b[1;32m----> 2\u001b[1;33m \u001b[0mcurdoc\u001b[0m\u001b[1;33m(\u001b[0m\u001b[1;33m)\u001b[0m\u001b[1;33m.\u001b[0m\u001b[0madd_root\u001b[0m\u001b[1;33m(\u001b[0m\u001b[0mrow\u001b[0m\u001b[1;33m(\u001b[0m\u001b[0minputs\u001b[0m\u001b[1;33m,\u001b[0m \u001b[0mwordFreqBarPlot\u001b[0m\u001b[1;33m)\u001b[0m\u001b[1;33m)\u001b[0m\u001b[1;33m\u001b[0m\u001b[0m\n\u001b[0m\u001b[0;32m      3\u001b[0m \u001b[0mcurdoc\u001b[0m\u001b[1;33m(\u001b[0m\u001b[1;33m)\u001b[0m\u001b[1;33m.\u001b[0m\u001b[0mtitle\u001b[0m \u001b[1;33m=\u001b[0m \u001b[1;34m\"Heavy Metal Word Freq\"\u001b[0m\u001b[1;33m\u001b[0m\u001b[0m\n",
      "\u001b[1;32mC:\\Users\\Sandeep\\Anaconda3Version2\\lib\\site-packages\\bokeh\\layouts.py\u001b[0m in \u001b[0;36mrow\u001b[1;34m(*args, **kwargs)\u001b[0m\n\u001b[0;32m     91\u001b[0m             raise ValueError(\n\u001b[0;32m     92\u001b[0m                 \"\"\"Only LayoutDOM items can be inserted into a row.\n\u001b[1;32m---> 93\u001b[1;33m                 Tried to insert: %s of type %s\"\"\" % (item, type(item))\n\u001b[0m\u001b[0;32m     94\u001b[0m             )\n\u001b[0;32m     95\u001b[0m     \u001b[1;32mreturn\u001b[0m \u001b[0mRow\u001b[0m\u001b[1;33m(\u001b[0m\u001b[0mchildren\u001b[0m\u001b[1;33m=\u001b[0m\u001b[0mrow_children\u001b[0m\u001b[1;33m,\u001b[0m \u001b[0msizing_mode\u001b[0m\u001b[1;33m=\u001b[0m\u001b[0msizing_mode\u001b[0m\u001b[1;33m,\u001b[0m \u001b[1;33m**\u001b[0m\u001b[0mkwargs\u001b[0m\u001b[1;33m)\u001b[0m\u001b[1;33m\u001b[0m\u001b[0m\n",
      "\u001b[1;31mValueError\u001b[0m: Only LayoutDOM items can be inserted into a row.\n                Tried to insert: None of type <class 'NoneType'>"
     ]
    }
   ],
   "source": [
    "inputs = column(widgetbox(startingPoint_slider, numOfWordsLookingAt_slider))\n",
    "curdoc().add_root(row(inputs, wordFreqBarPlot))\n",
    "curdoc().title = \"Heavy Metal Word Freq\""
   ]
  }
 ],
 "metadata": {
  "kernelspec": {
   "display_name": "Python 3",
   "language": "python",
   "name": "python3"
  },
  "language_info": {
   "codemirror_mode": {
    "name": "ipython",
    "version": 3
   },
   "file_extension": ".py",
   "mimetype": "text/x-python",
   "name": "python",
   "nbconvert_exporter": "python",
   "pygments_lexer": "ipython3",
   "version": "3.6.1"
  }
 },
 "nbformat": 4,
 "nbformat_minor": 2
}
