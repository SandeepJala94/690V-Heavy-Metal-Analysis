{
 "cells": [
  {
   "cell_type": "code",
   "execution_count": 1,
   "metadata": {
    "collapsed": true
   },
   "outputs": [],
   "source": [
    "import json"
   ]
  },
  {
   "cell_type": "code",
   "execution_count": 2,
   "metadata": {
    "collapsed": true,
    "scrolled": true
   },
   "outputs": [],
   "source": [
    "file  = open(\"ranking.json\", \"r\")\n",
    "text = file.read()\n",
    "#print(text)"
   ]
  },
  {
   "cell_type": "code",
   "execution_count": 3,
   "metadata": {
    "collapsed": true
   },
   "outputs": [],
   "source": [
    "parsed_text = json.loads(text)"
   ]
  },
  {
   "cell_type": "code",
   "execution_count": 4,
   "metadata": {},
   "outputs": [
    {
     "name": "stdout",
     "output_type": "stream",
     "text": [
      "<class 'dict'>\n",
      "dict_keys(['meta', 'objects'])\n"
     ]
    }
   ],
   "source": [
    "print(type(parsed_text))\n",
    "print(parsed_text.keys())"
   ]
  },
  {
   "cell_type": "code",
   "execution_count": 5,
   "metadata": {
    "collapsed": true
   },
   "outputs": [],
   "source": [
    "#print(parsed_text['objects'])"
   ]
  },
  {
   "cell_type": "code",
   "execution_count": 6,
   "metadata": {},
   "outputs": [
    {
     "name": "stdout",
     "output_type": "stream",
     "text": [
      "10222\n"
     ]
    }
   ],
   "source": [
    "print(len(parsed_text['objects']))"
   ]
  },
  {
   "cell_type": "code",
   "execution_count": 7,
   "metadata": {},
   "outputs": [
    {
     "name": "stdout",
     "output_type": "stream",
     "text": [
      "laughter \t\t 1\n",
      "happiness \t\t 2\n",
      "love \t\t 3\n",
      "happy \t\t 4\n",
      "laughed \t\t 5\n",
      "laugh \t\t 6\n",
      "laughing \t\t 7\n",
      "excellent \t\t 8\n",
      "laughs \t\t 9\n",
      "joy \t\t 10\n"
     ]
    }
   ],
   "source": [
    "number = 1\n",
    "for i in range(0, 10):\n",
    "    print(parsed_text['objects'][i]['word'], \"\\t\\t\", parsed_text['objects'][i]['rank'])"
   ]
  },
  {
   "cell_type": "code",
   "execution_count": 76,
   "metadata": {
    "collapsed": true
   },
   "outputs": [],
   "source": [
    "def stemStepA(word):\n",
    "    vowels = ['a', 'e', 'i',  'o', 'u', 'y']\n",
    "    \n",
    "    if word[len(word)-3:] == \"ied\" or word[len(word)-3:] == \"ies\":\n",
    "        return word[:-2]\n",
    "    \n",
    "    \n",
    "    if word[len(word)-4:] == \"sses\":\n",
    "        if len(word) >= 4:\n",
    "            word = word[:len(word)-4] + \"ss\"\n",
    "        return word\n",
    "    \n",
    "    \n",
    "    if word[len(word)-1:] == \"s\":\n",
    "        if word[len(word)-2:-1] not in vowels:\n",
    "            word = word[:-1]    \n",
    "        return word\n",
    "    \n",
    "    \n",
    "    return word    "
   ]
  },
  {
   "cell_type": "code",
   "execution_count": 119,
   "metadata": {
    "collapsed": true
   },
   "outputs": [],
   "source": [
    "def firstNonVowelIndex(word):\n",
    "    \n",
    "    vowels = ['a', 'e', 'i',  'o', 'u', 'y']\n",
    "    \n",
    "    index = -1\n",
    "    \n",
    "    for i in range(0, len(word)):\n",
    "        if word[i] not in vowels and index == -1:\n",
    "            index = i\n",
    "            \n",
    "    #print(\"index is \", index)\n",
    "    return index"
   ]
  },
  {
   "cell_type": "code",
   "execution_count": 167,
   "metadata": {
    "collapsed": true
   },
   "outputs": [],
   "source": [
    "def rootHasVowel(word, endingIndex):\n",
    "    \n",
    "    vowels = ['a', 'e', 'i',  'o', 'u', 'y']\n",
    "    \n",
    "    temp = word[:-endingIndex]\n",
    "    \n",
    "    for v in vowels:\n",
    "        if v in temp:\n",
    "            return True\n",
    "         \n",
    "    return False"
   ]
  },
  {
   "cell_type": "code",
   "execution_count": 217,
   "metadata": {},
   "outputs": [],
   "source": [
    "def stemStepB(word):\n",
    "    vowels = ['a', 'e', 'i',  'o', 'u', 'y']\n",
    "    \n",
    "    #print(word, \"got past 0\")\n",
    "    \n",
    "    if len(word) >= 4:\n",
    "        if word[len(word)-3:] == \"eed\":\n",
    "            if word[len(word)-4:-3] not in vowels:\n",
    "                    if len(word)-4 == firstNonVowelIndex(word):\n",
    "                        return word\n",
    "                    else:\n",
    "                        return word[:-3] + \"ee\"\n",
    "                    \n",
    "    #print(word, \"got past 1\")\n",
    "        \n",
    "    if len(word) >= 6:\n",
    "        if word[len(word)-5:] == \"eedly\":\n",
    "            if word[len(word)-6:-5] not in vowels:\n",
    "                if len(word)-6 == firstNonVowelIndex(word):\n",
    "                    return word\n",
    "                else:\n",
    "                    return word[:-5] + \"ee\"\n",
    "        \n",
    "    #print(word, \"got past 2\")\n",
    "    \n",
    "    if word[len(word)-2:] == \"ed\":\n",
    "        if rootHasVowel(word, 2) == True:\n",
    "            word = word[:-2]\n",
    "        \n",
    "        if word[:-2] == \"at\" or word[:-2] == \"bl\" or word[:-2] == \"iz\":\n",
    "            word = word + \"e\"\n",
    "            \n",
    "        return word\n",
    "\n",
    "    #print(word, \"got past 3\")\n",
    "    \n",
    "    if word[len(word)-4:] == \"edly\":\n",
    "        if rootHasVowel(word, 4) == True:\n",
    "            word = word[:-4]\n",
    "        \n",
    "        if word[:-2] == \"at\" or word[:-2] == \"bl\" or word[:-2] == \"iz\":\n",
    "            word = word + \"e\"\n",
    "            \n",
    "        return word\n",
    "    \n",
    "    #print(word, \"got past 4\")\n",
    "    \n",
    "    if word[len(word)-3:] == \"ing\":\n",
    "        if rootHasVowel(word, 3) == True:\n",
    "            word = word[:-3]\n",
    "            \n",
    "        if word[len(word)-2:] == \"at\" or word[len(word)-2:] == \"bl\" or word[len(word)-2:] == \"iz\":\n",
    "            word = word + \"e\"\n",
    "            \n",
    "        return word\n",
    "        \n",
    "    return word"
   ]
  },
  {
   "cell_type": "code",
   "execution_count": 218,
   "metadata": {
    "collapsed": true
   },
   "outputs": [],
   "source": [
    "def stem(word):\n",
    "    word = stemStepA(word)\n",
    "    word = stemStepB(word)\n",
    "    return word"
   ]
  },
  {
   "cell_type": "code",
   "execution_count": 219,
   "metadata": {},
   "outputs": [
    {
     "name": "stdout",
     "output_type": "stream",
     "text": [
      "stress\n",
      "gap\n",
      "gas\n",
      "tie\n",
      "cri\n",
      "\n",
      "agree\n",
      "feed\n",
      "\n",
      "agree\n",
      "feedly\n",
      "fee\n",
      "\n",
      "fish\n",
      "fish\n",
      "blaze\n",
      "blaze\n",
      "pirate\n",
      "pirate\n"
     ]
    }
   ],
   "source": [
    "print(stem(\"stresses\"))\n",
    "print(stem(\"gaps\"))\n",
    "print(stem(\"gas\"))\n",
    "print(stem(\"tie\"))\n",
    "print(stem(\"cries\"))\n",
    "print()\n",
    "\n",
    "print(stem(\"agreed\"))\n",
    "print(stem(\"feed\"))\n",
    "print()\n",
    "\n",
    "print(stem(\"agreedly\"))\n",
    "print(stem(\"feedly\"))\n",
    "print(stem(\"fee\"))\n",
    "print()\n",
    "\n",
    "print(stem(\"fished\"))\n",
    "print(stem(\"fish\"))\n",
    "print(stem(\"blazed\"))\n",
    "print(stem(\"blaze\"))\n",
    "print(stem(\"pirating\"))\n",
    "print(stem(\"pirate\"))"
   ]
  },
  {
   "cell_type": "code",
   "execution_count": null,
   "metadata": {
    "collapsed": true
   },
   "outputs": [],
   "source": []
  }
 ],
 "metadata": {
  "kernelspec": {
   "display_name": "Python 3",
   "language": "python",
   "name": "python3"
  },
  "language_info": {
   "codemirror_mode": {
    "name": "ipython",
    "version": 3
   },
   "file_extension": ".py",
   "mimetype": "text/x-python",
   "name": "python",
   "nbconvert_exporter": "python",
   "pygments_lexer": "ipython3",
   "version": "3.6.1"
  }
 },
 "nbformat": 4,
 "nbformat_minor": 2
}
